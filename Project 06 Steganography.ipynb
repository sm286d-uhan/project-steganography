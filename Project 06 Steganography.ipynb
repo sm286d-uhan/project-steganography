{
 "cells": [
  {
   "cell_type": "markdown",
   "metadata": {},
   "source": [
    "<h4 class='prehead'>SM286D &middot; Introduction to Applied Mathematics with Python &middot; Spring 2020 &middot; Foraker/Traves/Uhan</h4>\n",
    "\n",
    "<h3 class='lesson'>Project 6.</h3>\n",
    "\n",
    "<h1 class='lesson_title'>Steganography: Hidden Messages</h1>"
   ]
  },
  {
   "cell_type": "markdown",
   "metadata": {},
   "source": [
    "__Mathematical goals.__  Base two representation of numbers, understanding how images are stored in a computer, steganography\n",
    "\n",
    "__Programming goals.__ Image files (`imshow`, `imread`, `imsave`), binary shifts (`uint8`, `right_shift`, `left_shift`), figures with titles."
   ]
  },
  {
   "cell_type": "markdown",
   "metadata": {},
   "source": [
    "---"
   ]
  },
  {
   "cell_type": "markdown",
   "metadata": {},
   "source": [
    "## Background"
   ]
  },
  {
   "cell_type": "markdown",
   "metadata": {},
   "source": [
    "This project is derived from one created by Prof. Susan Margulies. Portions of this project write up are derived from the [Wikipedia page on Steganography](https://en.wikipedia.org/wiki/Steganography), which is a great place to start if you want to learn more about the subject. "
   ]
  },
  {
   "cell_type": "markdown",
   "metadata": {},
   "source": [
    "### What is steganography?"
   ]
  },
  {
   "cell_type": "markdown",
   "metadata": {},
   "source": [
    "**Steganography** is the practice of hiding one message inside another form of communication. As such, it is related to cryptography, the science of secret communication, but in classical steganography the message itself is just hidden and not encrypted. "
   ]
  },
  {
   "cell_type": "markdown",
   "metadata": {},
   "source": [
    "The earliest recorded instance of steganography dates to 440 B.C. and occurs in Herodotus's *Histories*, which includes the tale of Histiaeus, who sent a warning to Greece about Persia's upcoming invasion by shaving the head of a slave, marking the message on his scalp (ouch!), and sending the slave to Greece after his hair grew back. Similarly, during World War II, the French Resistance sent messages written in invisible ink on the backs of couriers. "
   ]
  },
  {
   "cell_type": "markdown",
   "metadata": {},
   "source": [
    "An inspirational instance of steganography involved RADM Jeremiah Denton (USNA Class of 1947). In 1965, then-CDR Denton was shot down while flying a bombing mission over Vietnam. Captured and forced to appear in a propaganda video, he communicated home by blinking his eyes in Morse code, spelling out the word \"TORTURE\", confirming that prisoners of war were being tortured by the North Vietnamese. RADM Denton had a distinguished career following his return from Vietnam, serving as a U.S. Senator for his home state of Alabama. His experiences in Vietnam are recounted in his book, *When Hell was in Session*. A similar incident involved the crew of the USS Pueblo, who were captured by North Korea in 1968. They used American sign language to hide messages in propaganda videos; also look closely at Figure 1 below."
   ]
  },
  {
   "cell_type": "markdown",
   "metadata": {},
   "source": [
    "<img src=\"img/finger.jpg\" alt=\"Drawing\" width=600/>\n",
    "\n",
    "Figure 1. The North Koreans were misled into believing that the extended middle finger was a Hawaiian sign for good luck, as reported by Time Magazine in November, 1968."
   ]
  },
  {
   "cell_type": "markdown",
   "metadata": {},
   "source": [
    "Steganography is used extensively in the modern era. HP and Xerox color copiers print a yellow dot on each page, invisible to the naked eye. These dots record the printer type and serial number, enabling authorities to track printed materials back to their source. "
   ]
  },
  {
   "cell_type": "markdown",
   "metadata": {},
   "source": [
    "### Steganography with digital images"
   ]
  },
  {
   "cell_type": "markdown",
   "metadata": {},
   "source": [
    "In this project, we'll see how we can hide one digital image inside another."
   ]
  },
  {
   "cell_type": "markdown",
   "metadata": {},
   "source": [
    "To understand how one digital image can be hidden inside another, we first have to understand how a computer stores digital images. An image is made up of pixels (tiny rectangles) in a grid pattern. Each pixel is painted a color, which is indicated by three numbers. The three numbers represent the the Red content, the Green content and the Blue content of the pixel. These three numbers are stored as 8-bit integers. \n",
    "\n",
    "For instance, the Red content might be the 8 digit integer $[10011011]_2$. The notation indicates that this number is stored in binary notation. Assuming that the least significant digit is stored on the right, this number is equal to \n",
    "\n",
    "\\begin{equation*}\n",
    "\\begin{array}{ll}\n",
    " \\phantom{=} & (1 \\cdot 2^7) + (0 \\cdot 2^6) + (0 \\cdot 2^5) + (1 \\cdot 2^4) + (1 \\cdot 2^3) + (0 \\cdot 2^2) + (1 \\cdot 2^1) + (1 \\cdot 2^0) \\\\ \n",
    "= & 2^7 + 2^4 + 2^3 + 2^1 + 2^0 = 128 + 16 + 8 + 2 + 1 \\\\ \n",
    "= & 155\n",
    "\\end{array}\n",
    "\\end{equation*}\n",
    "\n",
    "in our usual base-10 notation. The smallest 8-bit integer is $[00000000]_2 = 0$ and the largest is \n",
    "\n",
    "\\begin{equation*}\n",
    "[11111111]_2 = 2^7 + 2^6 + 2^5 + 2^4 + 2^3+2^2+2^1 = 255.\n",
    "\\end{equation*}\n",
    "\n",
    "An 8-bit integer can store any integer between 0 and 255."
   ]
  },
  {
   "cell_type": "markdown",
   "metadata": {},
   "source": [
    "The Red, Green and Blue color components make up the RGB-color code for the pixel. To get a feel for how the color components relate to the actual color, we can use the Paint program. Go to **Windows Start Menu &rarr; Windows Accessories &rarr; Paint**. Open the program and click on __Edit Colors__ in the ribbon. Try clicking on a red, green or blue box on the left, and observe the red, green and blue components at the bottom right. Figure 2 shows the dialogue box after clicking on the red color. "
   ]
  },
  {
   "cell_type": "markdown",
   "metadata": {},
   "source": [
    "<img src=\"img/red_color_window.jpg\" alt=\"Drawing\" width=\"400\"/>\n",
    "<br>\n",
    "<center> Figure 2. Paint dialog box showing a red color. </center>"
   ]
  },
  {
   "cell_type": "markdown",
   "metadata": {},
   "source": [
    "We see that red is stored as $[255,0,0]$; that is, the Red component is 255 and the Green and Blue components are both 0. Clicking on a violet shade produces the dialogue box in Figure 3. "
   ]
  },
  {
   "cell_type": "markdown",
   "metadata": {},
   "source": [
    "<img src=\"img/violet.jpg\" alt=\"Drawing\" width=\"400\"/>\n",
    "<br>\n",
    "<center> Figure 3: Paint dialog box showing a violet color. </center>"
   ]
  },
  {
   "cell_type": "markdown",
   "metadata": {},
   "source": [
    "The color components for this violet color are $[204,156,220]$; That is, the Red component of this violet color is 204, the Green component is 156, and the Blue component is 220. The 8-bit integer representations of these components are shown on the left side of Figure 4; the right side shows the values when the four lowest bits of the components are dropped.  "
   ]
  },
  {
   "cell_type": "markdown",
   "metadata": {},
   "source": [
    "<img src=\"img/Figure_4.png\" alt=\"Drawing\" width=\"500\"/>\n",
    "<br>\n",
    "<center> Figure 4. 8-bit representations of some color components.</center>"
   ]
  },
  {
   "cell_type": "markdown",
   "metadata": {},
   "source": [
    "Dropping the lower bits changes the color, but not by much. Figure 5 shows both the old violet color and the new violet color. "
   ]
  },
  {
   "cell_type": "markdown",
   "metadata": {},
   "source": [
    "<table><tr>\n",
    "<td> <img src=\"img/violet_mini.jpg\" alt=\"Drawing\" width=\"260\"/> </td>\n",
    "<td> <img src=\"img/new_violet_mini.jpg\" alt=\"Drawing\" width=\"260\"/> </td>\n",
    "</tr></table>\n",
    "<br>\n",
    "<center> Figure 5. The old violet color (left) and the new violet color (right). </center>"
   ]
  },
  {
   "cell_type": "markdown",
   "metadata": {},
   "source": [
    "It seems that the first four digits of the color components determine the bulk of the color, while the last four have very little effect. We'll exploit this to hide a secret digital image inside another, called the __cover image__. To do this, we'll hide the top four digits of the color components of our secret image inside the bottom four digits of our cover image. \n",
    "\n",
    "For instance, suppose that the cover image has a pixel with Red component 204, and the same pixel location in the secret image has Red component 167. In Figure 4 we saw that the binary representation of 204 is $[11001100]_2$ and that if we throw away the bottom four bits, we get the number $[11000000]_2 = 192$. The top four bits of $167 = [$<font color=\"red\">1010</font>$0111]_2$ are 1010 and we can hide these in the bottom four bits of the cover image's Red component by replacing the original cover image's Red component $204 = [11001100]_2$ with $[1100$<font color=\"red\">1010</font>$]_2 = 192 + [$<font color=\"red\">1010</font>$]_2 = 192+10=202$. Changing the Red color component by just 2 (from 204 to 202) is unlikely to be discernable by the human eye.  "
   ]
  },
  {
   "cell_type": "markdown",
   "metadata": {},
   "source": [
    "We can perform these computations in Python using NumPy's `right_shift()` and `left_shift()` methods. We take the __byte__ (8-bit integer) containing the Red component for the cover image pixel and shift it 4 bits to the right and then 4 back to the left. This has the effect of clearing out the 4 lowest-order bits. In our example above we replace $204 = [11001100]_2$ with $192 = [11000000]_2$. Then we shift the Red component for the secret image pixel by 4 bits to the right. In our example, $167 = [10100111]_2$ is replaced by $10 = [00001010]_2$. Adding the two bytes together gives the new Red component for the steganography image pixel (the cover image with the secret image inside it) of $192+10 = [11000000]_2 + [00001010]_2 = [11001010]_2 = 202$. "
   ]
  },
  {
   "cell_type": "markdown",
   "metadata": {},
   "source": [
    "You might be concerned that changing the lowest 4 bits of each color component will radically change the look of the image. To test this, we can load a picture of Keenan Reynolds (USNA Class of 2016), bitshift every pixel's Red, Green and Blue components to the right and left by 4 bits and then compare the result to the original picture. \n",
    "\n",
    "Take a look at the code cell below. In lines 1-3, we load some packages. `numpy` allows us to create and manipulate arrays (matrices), `matplotlib.image` contains commands to load, manipulate and save images, and `matplotlib.pyplot` contains commands to manipulate plots and figures. On line 6, we load the image in the file `reynolds.jpg`, and in line 7, we display the image."
   ]
  },
  {
   "cell_type": "code",
   "execution_count": null,
   "metadata": {},
   "outputs": [],
   "source": [
    "import numpy as np\n",
    "import matplotlib.image as img\n",
    "import matplotlib.pyplot as plt\n",
    "\n",
    "# Load and show pic of Keenan Reynolds (USNA 2016)\n",
    "qb = img.imread('reynolds.jpg')\n",
    "plt.imshow(qb)"
   ]
  },
  {
   "cell_type": "markdown",
   "metadata": {},
   "source": [
    "In the next code cell, in line 2, we shift the image back and forth (bitwise) and then we display the resulting image in line 3. The initial and shifted images are reproduced in Figure 6. You have to look very closely to see the differences."
   ]
  },
  {
   "cell_type": "code",
   "execution_count": null,
   "metadata": {},
   "outputs": [],
   "source": [
    "# Shift, show and save a pic of Keenan Reynolds\n",
    "qb_shift = np.left_shift(np.right_shift(qb, 4), 4)\n",
    "plt.imshow(qb_shift)"
   ]
  },
  {
   "cell_type": "markdown",
   "metadata": {},
   "source": [
    "<table><tr>\n",
    "<td> <img src=\"img/reynolds.jpg\" alt=\"Drawing\" width=\"300\"/> </td>\n",
    "<td> <img src=\"img/reynolds-shift.jpg\" alt=\"Drawing\" width=\"300\"/> </td>\n",
    "</tr></table>\n",
    "<br>\n",
    "<center> Figure 6. Keenan Reynolds outruns USF tacklers: original image (left) and image without the lowest 4 bits (right). </center>"
   ]
  },
  {
   "cell_type": "markdown",
   "metadata": {},
   "source": [
    "In the code cell below, we find the size of the shifted image so that we can add a title to the image."
   ]
  },
  {
   "cell_type": "code",
   "execution_count": null,
   "metadata": {},
   "outputs": [],
   "source": [
    "# Find size of shifted picture \n",
    "print(qb_shift.shape)"
   ]
  },
  {
   "cell_type": "markdown",
   "metadata": {},
   "source": [
    "In the next code cell, in line 3, we make an all-white image that is 50 pixels larger than the shifted image. The keyword argument `dtype='uint8'` tells `np.ones()` that the entries of our matrix should be interpreted as 8-bit integers, or bytes. We fit the image onto the bottom portion of the image in line 4. In line 7, we display the image, and in line 16, we add a title using `plt.text()`."
   ]
  },
  {
   "cell_type": "code",
   "execution_count": null,
   "metadata": {},
   "outputs": [],
   "source": [
    "# Add 50 pixels of white space to the top of \n",
    "# the shifted image so that we can include a title\n",
    "qb_shift_with_title = 255 * np.ones((650, 1000, 3), dtype='uint8') \n",
    "qb_shift_with_title[50:650, 0:1000, 0:3] = qb_shift\n",
    "\n",
    "# Display the shifted image\n",
    "plt.imshow(qb_shift_with_title)\n",
    "\n",
    "# Add title\n",
    "#\n",
    "# Note that the first argument to plt.text (300) \n",
    "# is the *horizontal* position and the second \n",
    "# argument (35) is the *vertical* position. This is \n",
    "# different from how the arrays from np.imread are \n",
    "# organized.\n",
    "#\n",
    "# You may need to play around with these values \n",
    "# to get the title positioned nicely.\n",
    "plt.text(300, 35, 'A shifty Keenan Reynolds')"
   ]
  },
  {
   "cell_type": "markdown",
   "metadata": {},
   "source": [
    "## Your assignment"
   ]
  },
  {
   "cell_type": "markdown",
   "metadata": {},
   "source": [
    "### Part 1"
   ]
  },
  {
   "cell_type": "markdown",
   "metadata": {},
   "source": [
    "Create the picture in Figure 7. First construct a $200 \\times 200$ image that is completely black. Then, change the Red component of the $100 \\times 100$ box whose top left corner is located at position (11, 81) to 255.  Change the Blue component of the $100 \\times 100$ box whose top left corner is located at (91, 51) to 255. Change the Green layer of the $100 \\times 100$ box whose top left corner is located at (41, 11). Use the `imshow` method to display your image."
   ]
  },
  {
   "cell_type": "markdown",
   "metadata": {},
   "source": [
    "<img src=\"img/boxes.png\" alt=\"Drawing\" width=\"260\"/>\n",
    "<br>\n",
    "<center> Figure 7. Three boxes </center>"
   ]
  },
  {
   "cell_type": "code",
   "execution_count": null,
   "metadata": {},
   "outputs": [],
   "source": []
  },
  {
   "cell_type": "markdown",
   "metadata": {},
   "source": [
    "### Part 2"
   ]
  },
  {
   "cell_type": "markdown",
   "metadata": {},
   "source": [
    "Now we'll hide one digital image inside another. \n",
    "\n",
    "Choose your own cover and secret images. Have fun and use some creativity in your selection of images (but keep them family-friendly). It is easiest if the images are in JPEG format. \n",
    "\n",
    "Also, make sure that your secret image does not have larger dimensions than your cover image. If your secret image has smaller dimensions than your cover image, you'll first need to create a new blank image that is the same size as your cover image. Then insert your secret image into this blank image to create a new, appropriately sized, secret image.  "
   ]
  },
  {
   "cell_type": "markdown",
   "metadata": {},
   "source": [
    "Perform the following steps. In the end, your code should produce and display 5 images."
   ]
  },
  {
   "cell_type": "markdown",
   "metadata": {},
   "source": [
    "__(a)__ Load your cover image using `imread`.  Add white space to the top of your cover image for a title. Display your cover image using `imshow`, with an appropriate title using the `plt.text`."
   ]
  },
  {
   "cell_type": "code",
   "execution_count": null,
   "metadata": {},
   "outputs": [],
   "source": []
  },
  {
   "cell_type": "markdown",
   "metadata": {},
   "source": [
    "__(b)__ Load your secret image. Display your secret image with an appropriate title. If you have to modify the secret image to match the dimensions of the cover image, display the modified image instead."
   ]
  },
  {
   "cell_type": "code",
   "execution_count": null,
   "metadata": {},
   "outputs": [],
   "source": []
  },
  {
   "cell_type": "markdown",
   "metadata": {},
   "source": [
    "__(c)__ Bit shift your cover image right 4 bits, and then back left 4 bits. Display your shifted cover image, titled appropriately."
   ]
  },
  {
   "cell_type": "code",
   "execution_count": null,
   "metadata": {},
   "outputs": [],
   "source": []
  },
  {
   "cell_type": "markdown",
   "metadata": {},
   "source": [
    "__(d)__ Bit shift your secret image right 4 bits, and then hide your secret image in your cover image to produce the steganography image. Display your steganography image with an appropriate title."
   ]
  },
  {
   "cell_type": "code",
   "execution_count": null,
   "metadata": {},
   "outputs": [],
   "source": []
  },
  {
   "cell_type": "markdown",
   "metadata": {},
   "source": [
    "__(e)__ Bit shift your steganography image left 4 bits to recover your secret image. Display the recovered image with an appropriate title."
   ]
  },
  {
   "cell_type": "code",
   "execution_count": null,
   "metadata": {},
   "outputs": [],
   "source": []
  },
  {
   "cell_type": "markdown",
   "metadata": {},
   "source": [
    "---"
   ]
  },
  {
   "cell_type": "markdown",
   "metadata": {},
   "source": [
    "## When you're finished"
   ]
  },
  {
   "cell_type": "markdown",
   "metadata": {},
   "source": [
    "- Make sure your notebook runs from top to bottom with no errors. One way to accomplish this is to click on __Kernel &#8594; Restart & Run All__. This will restart Python, and run your notebook from top to bottom."
   ]
  },
  {
   "cell_type": "markdown",
   "metadata": {},
   "source": [
    "- When you're ready, submit the following using the SM286D Submission Form linked on the [class website](https://www.usna.edu/users/math/uhan/sm286d/):\n",
    "    - This notebook\n",
    "    - Your original cover image file for Part 2\n",
    "    - Your original secret image file for Part 2"
   ]
  },
  {
   "cell_type": "markdown",
   "metadata": {},
   "source": [
    "---"
   ]
  },
  {
   "cell_type": "markdown",
   "metadata": {},
   "source": [
    "## Grading"
   ]
  },
  {
   "cell_type": "markdown",
   "metadata": {},
   "source": [
    "Your work will be graded as follows: (40 total points)\n",
    "\n",
    "- Part 1\n",
    "    - Code produces the correct image of the three boxes on a black background. (15 points)\n",
    "- Part 2\n",
    "    - Correct code to produce 5 images (15 points total = 3 points $\\times$ 5 images)\n",
    "    - Correct code to add title to 5 images (5 points total = 1 point $\\times$ 5 images)\n",
    "- All parts: helpful comments throughout your code (5 points)"
   ]
  }
 ],
 "metadata": {
  "kernelspec": {
   "display_name": "Python 3",
   "language": "python",
   "name": "python3"
  },
  "language_info": {
   "codemirror_mode": {
    "name": "ipython",
    "version": 3
   },
   "file_extension": ".py",
   "mimetype": "text/x-python",
   "name": "python",
   "nbconvert_exporter": "python",
   "pygments_lexer": "ipython3",
   "version": "3.7.6"
  }
 },
 "nbformat": 4,
 "nbformat_minor": 2
}
